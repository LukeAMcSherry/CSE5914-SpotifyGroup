{
 "cells": [
  {
   "cell_type": "code",
   "execution_count": 1,
   "metadata": {},
   "outputs": [],
   "source": [
    "import pandas as pd"
   ]
  },
  {
   "cell_type": "code",
   "execution_count": 2,
   "metadata": {},
   "outputs": [
    {
     "name": "stderr",
     "output_type": "stream",
     "text": [
      "C:\\Users\\steve\\AppData\\Local\\Temp\\ipykernel_27508\\2769512203.py:2: DtypeWarning: Columns (2) have mixed types. Specify dtype option on import or set low_memory=False.\n",
      "  audioFTS = pd.read_csv(\"C:/Users/steve/SpotifyGenie/CSE5914-SpotifyGroup/spotify-genie/Datasets/track_features.csv\").drop_duplicates()\n"
     ]
    }
   ],
   "source": [
    "# Read in feature\n",
    "audioFTS = pd.read_csv(\"C:/Users/steve/SpotifyGenie/CSE5914-SpotifyGroup/spotify-genie/Datasets/track_features.csv\").drop_duplicates()\n",
    "wholeDataset = pd.read_csv(\"C:/Users/steve/SpotifyGenie/CSE5914-SpotifyGroup/spotify-genie/Datasets/1m.csv\").drop_duplicates()"
   ]
  },
  {
   "cell_type": "code",
   "execution_count": 3,
   "metadata": {},
   "outputs": [
    {
     "name": "stdout",
     "output_type": "stream",
     "text": [
      "1574225\n",
      "2262292\n",
      "0.6958540276851971\n",
      "Index(['id', 'release_date', 'popularity'], dtype='object')\n",
      "Index(['Unnamed: 0', 'pos', 'artist_name', 'track_uri', 'artist_uri',\n",
      "       'track_name', 'album_uri', 'duration_ms', 'album_name'],\n",
      "      dtype='object')\n"
     ]
    }
   ],
   "source": [
    "print(len(audioFTS))\n",
    "print(len(wholeDataset))\n",
    "print(len(audioFTS)/len(wholeDataset))\n",
    "print(audioFTS.columns)\n",
    "print(wholeDataset.columns)"
   ]
  },
  {
   "cell_type": "code",
   "execution_count": 4,
   "metadata": {},
   "outputs": [],
   "source": [
    "audioFTS['id'] = 'spotify:track:' + audioFTS['id']"
   ]
  },
  {
   "cell_type": "code",
   "execution_count": 5,
   "metadata": {},
   "outputs": [],
   "source": [
    "combinedDF = pd.merge(audioFTS,wholeDataset, left_on = \"id\", right_on= \"track_uri\",how = 'inner')"
   ]
  },
  {
   "cell_type": "code",
   "execution_count": 6,
   "metadata": {},
   "outputs": [
    {
     "name": "stdout",
     "output_type": "stream",
     "text": [
      "1574224\n"
     ]
    }
   ],
   "source": [
    "print(len(combinedDF))\n",
    "wholeDataset.set_index('track_uri', inplace=True)\n",
    "audioFTS.set_index('id', inplace=True)"
   ]
  },
  {
   "cell_type": "code",
   "execution_count": 7,
   "metadata": {},
   "outputs": [
    {
     "name": "stdout",
     "output_type": "stream",
     "text": [
      "2526988\n",
      "2262292\n"
     ]
    }
   ],
   "source": [
    "# missingSongs = songFTS[ ~audioFTS.index.isin(songFTS.index)]\n",
    "df3 = wholeDataset[~wholeDataset.index.isin(audioFTS.index)]\n",
    "\n",
    "\n",
    "notIn = len(wholeDataset[~wholeDataset.index.isin(audioFTS.index)])\n",
    "audioLen = len(audioFTS)\n",
    "songLen = len(wholeDataset)\n",
    "\n",
    "print(notIn + audioLen)\n",
    "print(songLen)\n",
    "\n",
    "df3.to_csv(\"neededsongs.csv\")"
   ]
  }
 ],
 "metadata": {
  "kernelspec": {
   "display_name": ".venv",
   "language": "python",
   "name": "python3"
  },
  "language_info": {
   "codemirror_mode": {
    "name": "ipython",
    "version": 3
   },
   "file_extension": ".py",
   "mimetype": "text/x-python",
   "name": "python",
   "nbconvert_exporter": "python",
   "pygments_lexer": "ipython3",
   "version": "3.11.4"
  }
 },
 "nbformat": 4,
 "nbformat_minor": 2
}
