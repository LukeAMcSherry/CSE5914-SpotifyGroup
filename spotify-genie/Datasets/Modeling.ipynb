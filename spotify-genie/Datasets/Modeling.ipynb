{
 "cells": [
  {
   "cell_type": "markdown",
   "metadata": {},
   "source": [
    "# Importing the libraries"
   ]
  },
  {
   "cell_type": "code",
   "execution_count": 1,
   "metadata": {},
   "outputs": [],
   "source": [
    "import os\n",
    "import pandas as pd\n",
    "import numpy as np\n",
    "import json\n",
    "import spotipy\n",
    "import spotipy.oauth2 as oauth2\n",
    "from spotipy.oauth2 import SpotifyOAuth,SpotifyClientCredentials\n",
    "import yaml\n",
    "import re\n",
    "from tqdm import tqdm\n",
    "import multiprocessing as mp\n",
    "import time\n",
    "import random\n",
    "import datetime\n",
    "import pickle\n",
    "from sklearn.feature_extraction.text import TfidfVectorizer\n",
    "from sklearn.metrics.pairwise import cosine_similarity\n",
    "from sklearn.preprocessing import MinMaxScaler\n",
    "import matplotlib.pyplot as plt\n",
    "from skimage import io\n",
    "from sklearn.preprocessing import OneHotEncoder"
   ]
  },
  {
   "cell_type": "code",
   "execution_count": 2,
   "metadata": {},
   "outputs": [],
   "source": [
    "stream= open(\"spotify.yaml\")\n",
    "spotify_details = yaml.safe_load(stream)\n",
    "auth_manager = SpotifyClientCredentials(client_id=spotify_details['Client_id'],\n",
    "                                        client_secret=spotify_details['client_secret'])\n",
    "sp = spotipy.client.Spotify(auth_manager=auth_manager)"
   ]
  },
  {
   "cell_type": "markdown",
   "metadata": {},
   "source": [
    "# Importing the dataset"
   ]
  },
  {
   "cell_type": "code",
   "execution_count": 15,
   "metadata": {},
   "outputs": [
    {
     "name": "stdout",
     "output_type": "stream",
     "text": [
      "Failed to load grow\n"
     ]
    }
   ],
   "source": [
    "dtypes = {'artist_name': 'object', 'track_uri': 'object', 'artist_uri': 'object', \n",
    "          'track_name': 'object', 'album_uri': 'object', 'duration_ms': 'float32', \n",
    "          'album_name': 'object',\n",
    "          'danceability': 'float16', 'energy': 'float16', 'key': 'float16',\n",
    "        'loudness': 'float16', 'mode': 'float16', 'speechiness': 'float16', \n",
    "        'acoustic': 'float16', 'instrumentalness': 'float16',\n",
    "               'liveness': 'float16', 'valence': 'float16', 'tempo': 'float16', \n",
    "               'time_signature': 'float16',\n",
    "               'release_date': 'int8', 'track_popularity': 'int8', \n",
    "               'artist_popularity': 'int8', 'genres': 'object'}\n",
    "try:\n",
    "    df=pd.read_csv('1M_unique_processed_data_grow.csv',dtype=dtypes)\n",
    "except:\n",
    "    print('Failed to load grow')\n",
    "    df=pd.read_csv('1M_unique_processed_data.csv',dtype=dtypes)\n"
   ]
  },
  {
   "cell_type": "markdown",
   "metadata": {},
   "source": [
    "# Test"
   ]
  },
  {
   "cell_type": "markdown",
   "metadata": {},
   "source": [
    "Extract playlist tracks and artist uri"
   ]
  },
  {
   "cell_type": "code",
   "execution_count": 4,
   "metadata": {},
   "outputs": [
    {
     "name": "stdout",
     "output_type": "stream",
     "text": [
      "49\n",
      "49\n"
     ]
    }
   ],
   "source": [
    "def get_IDs (user, playlist_id):\n",
    " track_ids = []\n",
    " artist_id = []\n",
    " playlist=sp.user_playlist (user, playlist_id)\n",
    " for item in playlist['tracks']['items']:\n",
    "  track=item['track']\n",
    "  track_ids.append(track['id'])\n",
    "  artist=item['track']['artists']\n",
    "  artist_id.append(artist[0]['id'])\n",
    " return track_ids,artist_id\n",
    "\n",
    "track_ids,artist_id = get_IDs('Steven', 'spotify:playlist:1ojGQLWDv4mD2u1hTnPGmg') \n",
    "print(len(track_ids))\n",
    "print(len(artist_id))"
   ]
  },
  {
   "cell_type": "markdown",
   "metadata": {},
   "source": [
    "getting the unique URI and repeating the extraction features and preprocessing steps for the user's playlist (input)"
   ]
  },
  {
   "cell_type": "code",
   "execution_count": 5,
   "metadata": {},
   "outputs": [],
   "source": [
    "artist_id_uni=list(set(artist_id))\n",
    "track_ids_uni=list(set(track_ids))"
   ]
  },
  {
   "cell_type": "code",
   "execution_count": 6,
   "metadata": {},
   "outputs": [
    {
     "name": "stderr",
     "output_type": "stream",
     "text": [
      "100%|██████████| 2/2 [00:00<00:00,  5.74it/s]\n"
     ]
    }
   ],
   "source": [
    "audio_features=pd.DataFrame()\n",
    "for i in tqdm(range(0,len(track_ids_uni),25)):\n",
    "    try:\n",
    "     track_feature = sp.audio_features(track_ids_uni[i:i+25])\n",
    "     track_df = pd.DataFrame(track_feature)\n",
    "     audio_features=pd.concat([audio_features,track_df],axis=0)\n",
    "    except Exception as e:\n",
    "        print(e)\n",
    "        continue"
   ]
  },
  {
   "cell_type": "code",
   "execution_count": 7,
   "metadata": {},
   "outputs": [
    {
     "name": "stderr",
     "output_type": "stream",
     "text": [
      "100%|██████████| 2/2 [00:00<00:00,  3.90it/s]"
     ]
    },
    {
     "name": "stdout",
     "output_type": "stream",
     "text": [
      "list index out of range\n"
     ]
    },
    {
     "name": "stderr",
     "output_type": "stream",
     "text": [
      "\n"
     ]
    }
   ],
   "source": [
    "track_=pd.DataFrame()\n",
    "for i in tqdm(range(0,len(track_ids_uni),25)):\n",
    "    try:\n",
    "        track_features = sp.tracks(track_ids_uni[i:i+25])\n",
    "        for x in range(25):\n",
    "            track_pop=pd.DataFrame([track_ids_uni[i+x]],columns=['track_uri'])\n",
    "            track_pop['Track_release_date']=track_features['tracks'][x]['album']['release_date']\n",
    "            track_pop['Track_pop'] = track_features['tracks'][x][\"popularity\"]\n",
    "            track_pop['track_name']=track_features['tracks'][x]['name']\n",
    "            track_pop['artist_uri']=track_features['tracks'][x]['artists'][0]['id']\n",
    "            track_pop['album_uri']=track_features['tracks'][x]['album']['id']\n",
    "            track_pop['album_name'] = track_features['tracks'][x]['album']['name']\n",
    "            track_pop['artist_name'] = track_features['tracks'][x]['artists'][0]['name']\n",
    "            track_=pd.concat([track_,track_pop],axis=0)\n",
    "    except Exception as e:\n",
    "        print(e)\n",
    "        continue"
   ]
  },
  {
   "cell_type": "code",
   "execution_count": 8,
   "metadata": {},
   "outputs": [
    {
     "name": "stderr",
     "output_type": "stream",
     "text": [
      "100%|██████████| 2/2 [00:00<00:00,  4.16it/s]"
     ]
    },
    {
     "name": "stdout",
     "output_type": "stream",
     "text": [
      "list index out of range\n"
     ]
    },
    {
     "name": "stderr",
     "output_type": "stream",
     "text": [
      "\n"
     ]
    }
   ],
   "source": [
    "artist_=pd.DataFrame()\n",
    "for i in tqdm(range(0,len(artist_id_uni),25)):\n",
    "    try:\n",
    "        artist_features = sp.artists(artist_id_uni[i:i+25])\n",
    "        for x in range(25):\n",
    "            artist_df=pd.DataFrame([artist_id_uni[i+x]],columns=['artist_uri'])\n",
    "            artist_pop = artist_features['artists'][x][\"popularity\"]\n",
    "            artist_genres = artist_features['artists'][x][\"genres\"]\n",
    "            artist_df[\"Artist_pop\"] = artist_pop\n",
    "            if artist_genres: \n",
    "                artist_df[\"genres\"] = \" \".join([re.sub(' ','_',i) for i in artist_genres])\n",
    "            else:\n",
    "              artist_df[\"genres\"] = \"unknown\"\n",
    "            artist_=pd.concat([artist_,artist_df],axis=0)\n",
    "    except Exception as e:\n",
    "        print(e)\n",
    "        continue"
   ]
  },
  {
   "cell_type": "code",
   "execution_count": 9,
   "metadata": {},
   "outputs": [],
   "source": [
    "audio_features.drop(columns=['type','uri','track_href','analysis_url'],axis=1,inplace=True)\n",
    "test=pd.DataFrame(track_,columns=['track_uri','artist_uri','album_uri'])\n",
    "track_.drop(columns=(['artist_uri', 'album_uri']),inplace=True)"
   ]
  },
  {
   "cell_type": "code",
   "execution_count": 10,
   "metadata": {},
   "outputs": [],
   "source": [
    "test = pd.merge(test,audio_features, left_on = \"track_uri\", right_on= \"id\",how = 'inner')\n",
    "test = pd.merge(test,track_, left_on = \"track_uri\", right_on= \"track_uri\",how = 'inner')\n",
    "test = pd.merge(test,artist_, left_on = \"artist_uri\", right_on= \"artist_uri\",how = 'inner')"
   ]
  },
  {
   "cell_type": "code",
   "execution_count": 11,
   "metadata": {},
   "outputs": [],
   "source": [
    "test.rename(columns = {'Artist_pop':'artist_popularity','Track_pop': 'track_popularity', 'Track_release_date': 'release_date', 'Album_uri':'album_uri', 'Artist_genres': 'genres'},inplace=True)\n",
    "del audio_features,track_,artist_\n",
    "test.drop(columns=['id'],axis=1,inplace=True)\n",
    "test.dropna(axis=0,inplace=True)"
   ]
  },
  {
   "cell_type": "code",
   "execution_count": 12,
   "metadata": {},
   "outputs": [],
   "source": [
    "test['track_popularity'] = test['track_popularity'].apply(lambda x: int(x/5))\n",
    "test['artist_popularity'] = test['artist_popularity'].apply(lambda x: int(x/5))\n",
    "test['release_date'] = test['release_date'].apply(lambda x: x.split('-')[0])\n",
    "test['release_date']=test['release_date'].astype('int16')\n",
    "test['release_date'] = test['release_date'].apply(lambda x: int(x/50))"
   ]
  },
  {
   "cell_type": "code",
   "execution_count": 13,
   "metadata": {},
   "outputs": [],
   "source": [
    "test[['danceability', 'energy', 'key','loudness', 'mode', 'speechiness', 'acousticness', 'instrumentalness','liveness', 'valence', 'tempo', 'time_signature']]=test[['danceability', 'energy', 'key','loudness', 'mode', 'speechiness', 'acousticness', 'instrumentalness','liveness', 'valence', 'tempo','time_signature']].astype('float16')\n",
    "test[['duration_ms']]=test[['duration_ms']].astype('float32')\n",
    "test[['release_date', 'track_popularity', 'artist_popularity']]=test[['release_date', 'track_popularity', 'artist_popularity']].astype('int8')"
   ]
  },
  {
   "cell_type": "code",
   "execution_count": 16,
   "metadata": {},
   "outputs": [],
   "source": [
    "df = df[['artist_name','artist_uri','artist_popularity',\n",
    "         'album_name','album_uri',\n",
    "         'track_name', 'track_uri','track_popularity',\n",
    "         'danceability','energy','key','loudness','mode','speechiness','acousticness','instrumentalness','liveness','valence','tempo',\n",
    "         'duration_ms','time_signature',\n",
    "         'release_date','genres']]"
   ]
  },
  {
   "cell_type": "code",
   "execution_count": 17,
   "metadata": {},
   "outputs": [],
   "source": [
    "test = test[['artist_name','artist_uri','artist_popularity',\n",
    "         'album_name','album_uri',\n",
    "         'track_name', 'track_uri','track_popularity',\n",
    "         'danceability','energy','key','loudness','mode','speechiness','acousticness','instrumentalness','liveness','valence','tempo',\n",
    "         'duration_ms','time_signature',\n",
    "         'release_date','genres']]"
   ]
  },
  {
   "cell_type": "code",
   "execution_count": 18,
   "metadata": {},
   "outputs": [
    {
     "name": "stdout",
     "output_type": "stream",
     "text": [
      "-254067 New Tracks Found\n"
     ]
    }
   ],
   "source": [
    "currentdf=len(df)\n",
    "df.drop_duplicates(subset=['track_uri'],inplace=True,keep='last') ## keep last to keep the dataset updated \n",
    "df.dropna(axis=0,inplace=True)\n",
    "print('{} New Tracks Found'.format(len(df)-currentdf))"
   ]
  },
  {
   "cell_type": "code",
   "execution_count": 19,
   "metadata": {},
   "outputs": [],
   "source": [
    "#saving the tracks if they weren't found in the dataset\n",
    "if len(df)>currentdf:   \n",
    "    df.to_csv('data/1M_unique_processed_data_grow.csv',index=False)\n",
    "    print('{} New Found'.format(len(df)-currentdf))\n",
    "    streamlit=df[df.Track_pop >0]             # dropped track with 0 popularity score to save space and ram for the final model\n",
    "    streamlit.to_csv('data/streamlit.csv',index=False)\n",
    "    del streamlit"
   ]
  },
  {
   "cell_type": "code",
   "execution_count": 20,
   "metadata": {},
   "outputs": [],
   "source": [
    "df = df[~df['track_uri'].isin(test['track_uri'].values)]"
   ]
  },
  {
   "cell_type": "code",
   "execution_count": 21,
   "metadata": {},
   "outputs": [],
   "source": [
    "test['genres'] = test['genres'].apply(lambda x: x.split(\" \"))\n",
    "tfidf = TfidfVectorizer() #max_features=5 \n",
    "tfidf_matrix = tfidf.fit_transform(test['genres'].apply(lambda x: \" \".join(x)))\n",
    "genre_df = pd.DataFrame(tfidf_matrix.toarray())\n",
    "genre_df.columns = ['genre' + \"|\" + i for i in tfidf.get_feature_names_out()]"
   ]
  },
  {
   "cell_type": "code",
   "execution_count": 22,
   "metadata": {},
   "outputs": [],
   "source": [
    "genre_df=genre_df.astype('float16')\n",
    "test.drop(columns=['genres'],axis=1,inplace=True)"
   ]
  },
  {
   "cell_type": "code",
   "execution_count": 23,
   "metadata": {},
   "outputs": [],
   "source": [
    "test = pd.concat([test.reset_index(drop=True), genre_df.reset_index(drop=True)],axis = 1)"
   ]
  },
  {
   "cell_type": "code",
   "execution_count": 24,
   "metadata": {},
   "outputs": [
    {
     "data": {
      "text/plain": [
       "0"
      ]
     },
     "execution_count": 24,
     "metadata": {},
     "output_type": "execute_result"
    }
   ],
   "source": [
    "test.isna().sum().sum()"
   ]
  },
  {
   "cell_type": "markdown",
   "metadata": {},
   "source": [
    "# df"
   ]
  },
  {
   "cell_type": "code",
   "execution_count": 25,
   "metadata": {},
   "outputs": [],
   "source": [
    "df['genres'] = df['genres'].apply(lambda x: x.split(\" \"))\n",
    "tfidf_matrix = tfidf.transform(df['genres'].apply(lambda x: \" \".join(x)))\n",
    "genre_df = pd.DataFrame(tfidf_matrix.toarray())\n",
    "genre_df.columns = ['genre' + \"|\" + i for i in tfidf.get_feature_names_out()]"
   ]
  },
  {
   "cell_type": "code",
   "execution_count": 26,
   "metadata": {},
   "outputs": [],
   "source": [
    "genre_df=genre_df.astype('float16')\n",
    "df.drop(columns=['genres'],axis=1,inplace=True)"
   ]
  },
  {
   "cell_type": "code",
   "execution_count": 27,
   "metadata": {},
   "outputs": [],
   "source": [
    "df = pd.concat([df.reset_index(drop=True), genre_df.reset_index(drop=True)],axis = 1)"
   ]
  },
  {
   "cell_type": "markdown",
   "metadata": {},
   "source": [
    "# pred"
   ]
  },
  {
   "cell_type": "code",
   "execution_count": 28,
   "metadata": {},
   "outputs": [],
   "source": [
    "try:\n",
    "    df.drop(columns=['genre|unknown'],axis=1,inplace=True)\n",
    "    test.drop(columns=['genre|unknown'],axis=1,inplace=True)\n",
    "except:\n",
    "    print('genre|unknown not found')"
   ]
  },
  {
   "cell_type": "markdown",
   "metadata": {},
   "source": [
    "I was first using OneHotEncoder for \"Track_release_date\", \"Track_pop\", and \"Artist_pop,\" but I found no difference in the final result other than high memory usage."
   ]
  },
  {
   "cell_type": "code",
   "execution_count": 29,
   "metadata": {},
   "outputs": [],
   "source": [
    "sc=MinMaxScaler()\n",
    "df.iloc[:,7:22] = sc.fit_transform(df.iloc[:,7:22])\n",
    "pickle.dump(sc, open('sc.sav', 'wb'))"
   ]
  },
  {
   "cell_type": "code",
   "execution_count": 30,
   "metadata": {},
   "outputs": [],
   "source": [
    "test.iloc[:,7:22]=sc.transform(test.iloc[:,7:22])"
   ]
  },
  {
   "cell_type": "code",
   "execution_count": 31,
   "metadata": {},
   "outputs": [
    {
     "data": {
      "text/html": [
       "<div>\n",
       "<style scoped>\n",
       "    .dataframe tbody tr th:only-of-type {\n",
       "        vertical-align: middle;\n",
       "    }\n",
       "\n",
       "    .dataframe tbody tr th {\n",
       "        vertical-align: top;\n",
       "    }\n",
       "\n",
       "    .dataframe thead th {\n",
       "        text-align: right;\n",
       "    }\n",
       "</style>\n",
       "<table border=\"1\" class=\"dataframe\">\n",
       "  <thead>\n",
       "    <tr style=\"text-align: right;\">\n",
       "      <th></th>\n",
       "      <th>artist_name</th>\n",
       "      <th>artist_uri</th>\n",
       "      <th>artist_popularity</th>\n",
       "      <th>album_name</th>\n",
       "      <th>album_uri</th>\n",
       "      <th>track_name</th>\n",
       "      <th>track_uri</th>\n",
       "      <th>track_popularity</th>\n",
       "      <th>danceability</th>\n",
       "      <th>energy</th>\n",
       "      <th>...</th>\n",
       "      <th>genre|singer</th>\n",
       "      <th>genre|slc_indie</th>\n",
       "      <th>genre|soft_rock</th>\n",
       "      <th>genre|songwriter</th>\n",
       "      <th>genre|songwriter_pop</th>\n",
       "      <th>genre|south_carolina_indie</th>\n",
       "      <th>genre|swedish_alternative_rock</th>\n",
       "      <th>genre|trap</th>\n",
       "      <th>genre|uk_contemporary_r</th>\n",
       "      <th>genre|vapor_soul</th>\n",
       "    </tr>\n",
       "  </thead>\n",
       "  <tbody>\n",
       "    <tr>\n",
       "      <th>0</th>\n",
       "      <td>Friday Pilots ClubFriday Pilots ClubNico Segal...</td>\n",
       "      <td>3PgEvPJKRuil74QPX8wtXY3PgEvPJKRuil74QPX8wtXY0o...</td>\n",
       "      <td>483</td>\n",
       "      <td>Hot MessFor the WickedSurfAlone At PromThe Unc...</td>\n",
       "      <td>6tpNnFCzpILVtX8x61s6Zy7LOUTGjI9LiJYYLSKcFhiP3e...</td>\n",
       "      <td>Hot MessFor the WickedSunday CandyThe Color Vi...</td>\n",
       "      <td>1mlVyUIqGTEkJy8sB5VchH57z7RV2AZZ2JhSZkjTTd2b6f...</td>\n",
       "      <td>18.166668</td>\n",
       "      <td>30.648529</td>\n",
       "      <td>30.59375</td>\n",
       "      <td>...</td>\n",
       "      <td>1.239258</td>\n",
       "      <td>2.072266</td>\n",
       "      <td>0.346436</td>\n",
       "      <td>0.646973</td>\n",
       "      <td>0.76709</td>\n",
       "      <td>1.0</td>\n",
       "      <td>0.470703</td>\n",
       "      <td>0.408203</td>\n",
       "      <td>3.0</td>\n",
       "      <td>2.0</td>\n",
       "    </tr>\n",
       "  </tbody>\n",
       "</table>\n",
       "<p>1 rows × 71 columns</p>\n",
       "</div>"
      ],
      "text/plain": [
       "                                         artist_name  \\\n",
       "0  Friday Pilots ClubFriday Pilots ClubNico Segal...   \n",
       "\n",
       "                                          artist_uri artist_popularity  \\\n",
       "0  3PgEvPJKRuil74QPX8wtXY3PgEvPJKRuil74QPX8wtXY0o...               483   \n",
       "\n",
       "                                          album_name  \\\n",
       "0  Hot MessFor the WickedSurfAlone At PromThe Unc...   \n",
       "\n",
       "                                           album_uri  \\\n",
       "0  6tpNnFCzpILVtX8x61s6Zy7LOUTGjI9LiJYYLSKcFhiP3e...   \n",
       "\n",
       "                                          track_name  \\\n",
       "0  Hot MessFor the WickedSunday CandyThe Color Vi...   \n",
       "\n",
       "                                           track_uri track_popularity  \\\n",
       "0  1mlVyUIqGTEkJy8sB5VchH57z7RV2AZZ2JhSZkjTTd2b6f...        18.166668   \n",
       "\n",
       "  danceability    energy  ... genre|singer genre|slc_indie genre|soft_rock  \\\n",
       "0    30.648529  30.59375  ...     1.239258        2.072266        0.346436   \n",
       "\n",
       "  genre|songwriter genre|songwriter_pop genre|south_carolina_indie  \\\n",
       "0         0.646973              0.76709                        1.0   \n",
       "\n",
       "  genre|swedish_alternative_rock genre|trap genre|uk_contemporary_r  \\\n",
       "0                       0.470703   0.408203                     3.0   \n",
       "\n",
       "  genre|vapor_soul  \n",
       "0              2.0  \n",
       "\n",
       "[1 rows x 71 columns]"
      ]
     },
     "execution_count": 31,
     "metadata": {},
     "output_type": "execute_result"
    }
   ],
   "source": [
    "playvec=pd.DataFrame(test.sum(axis=0)).T\n",
    "playvec"
   ]
  },
  {
   "cell_type": "code",
   "execution_count": 41,
   "metadata": {},
   "outputs": [
    {
     "name": "stdout",
     "output_type": "stream",
     "text": [
      "74\n",
      "71\n"
     ]
    }
   ],
   "source": [
    "print(len(df.columns))\n",
    "print(len(test.columns))"
   ]
  },
  {
   "cell_type": "code",
   "execution_count": 89,
   "metadata": {},
   "outputs": [],
   "source": [
    "df.drop(columns=['similarity'], inplace=True)"
   ]
  },
  {
   "cell_type": "code",
   "execution_count": 90,
   "metadata": {},
   "outputs": [
    {
     "name": "stdout",
     "output_type": "stream",
     "text": [
      "      0                              track_name           artist_name  \\\n",
      "0     0                                  На дне                   Мот   \n",
      "0     1                      The Way Love Looks         Easton Corbin   \n",
      "0     2                               Crossfire  The Bellamy Brothers   \n",
      "0     3                       Me Llora el Cielo    La Energia Nortena   \n",
      "0     4                              Hippie Van         Smith & Thell   \n",
      "..  ...                                     ...                   ...   \n",
      "0   995                              Smack Down  Thousand Foot Krutch   \n",
      "0   996                                  Damelo    Grupo Exterminador   \n",
      "0   997                       Lovin' You Is Fun         Easton Corbin   \n",
      "0   998                                   Mr. Q            Jolin Tsai   \n",
      "0   999  Commander feat. Panther - Original Mix                Apashe   \n",
      "\n",
      "    similarity  \n",
      "0     0.999403  \n",
      "0     0.999379  \n",
      "0     0.999373  \n",
      "0     0.999371  \n",
      "0     0.999359  \n",
      "..         ...  \n",
      "0     0.998956  \n",
      "0     0.998956  \n",
      "0     0.998956  \n",
      "0     0.998956  \n",
      "0     0.998956  \n",
      "\n",
      "[1000 rows x 4 columns]\n"
     ]
    }
   ],
   "source": [
    "df['similarity']=cosine_similarity(df.drop(['track_name','track_uri','artist_name','artist_uri','album_name','album_uri'], axis = 1),playvec.drop(['track_name','track_uri','artist_name','artist_uri','album_name','album_uri'], axis = 1))\n",
    "df.sort_values(['similarity'],ascending = False,kind='stable',inplace=True)\n",
    "Fresult = pd.DataFrame()\n",
    "for i in range(1000):\n",
    "    result=pd.DataFrame([i])\n",
    "    result['track_name'] = df.iloc[i].track_name\n",
    "    result['artist_name'] = df.iloc[i].artist_name\n",
    "    result['similarity'] = df.iloc[i].similarity\n",
    "    Fresult=pd.concat([Fresult,result],axis=0)\n",
    "print(Fresult)"
   ]
  }
 ],
 "metadata": {
  "kernelspec": {
   "display_name": "Python 3.9.13 ('base')",
   "language": "python",
   "name": "python3"
  },
  "language_info": {
   "codemirror_mode": {
    "name": "ipython",
    "version": 3
   },
   "file_extension": ".py",
   "mimetype": "text/x-python",
   "name": "python",
   "nbconvert_exporter": "python",
   "pygments_lexer": "ipython3",
   "version": "3.11.4"
  },
  "orig_nbformat": 4,
  "vscode": {
   "interpreter": {
    "hash": "e246d2215c418239c9316a1ebf2d8abb44dc50b2e5b0e29defd87143398aa387"
   }
  }
 },
 "nbformat": 4,
 "nbformat_minor": 2
}
