{
 "cells": [
  {
   "cell_type": "markdown",
   "metadata": {},
   "source": [
    "# Importing the libraries"
   ]
  },
  {
   "cell_type": "code",
   "execution_count": 115,
   "metadata": {},
   "outputs": [],
   "source": [
    "import os\n",
    "import pandas as pd\n",
    "import numpy as np\n",
    "import json\n",
    "import spotipy\n",
    "import spotipy.oauth2 as oauth2\n",
    "from spotipy.oauth2 import SpotifyOAuth,SpotifyClientCredentials\n",
    "import yaml\n",
    "import re\n",
    "from tqdm import tqdm\n",
    "import multiprocessing as mp\n",
    "import time\n",
    "import random\n",
    "import datetime\n",
    "\n",
    "from sklearn.feature_extraction.text import TfidfVectorizer\n",
    "from sklearn.metrics.pairwise import cosine_similarity\n",
    "from sklearn.preprocessing import MinMaxScaler\n",
    "import matplotlib.pyplot as plt"
   ]
  },
  {
   "cell_type": "code",
   "execution_count": 116,
   "metadata": {},
   "outputs": [],
   "source": [
    "stream= open(\"spotify.yaml\")\n",
    "spotify_details = yaml.safe_load(stream)\n",
    "auth_manager = SpotifyClientCredentials(client_id=spotify_details['Client_id'],\n",
    "                                        client_secret=spotify_details['client_secret'])\n",
    "sp = spotipy.client.Spotify(auth_manager=auth_manager)"
   ]
  },
  {
   "cell_type": "markdown",
   "metadata": {},
   "source": [
    "# Importing the dataset"
   ]
  },
  {
   "cell_type": "code",
   "execution_count": 117,
   "metadata": {},
   "outputs": [
    {
     "name": "stderr",
     "output_type": "stream",
     "text": [
      "C:\\Users\\steve\\AppData\\Local\\Temp\\ipykernel_23592\\2318931432.py:2: DtypeWarning: Columns (0) have mixed types. Specify dtype option on import or set low_memory=False.\n",
      "  audio_features=pd.read_csv('audio_features.csv')\n",
      "C:\\Users\\steve\\AppData\\Local\\Temp\\ipykernel_23592\\2318931432.py:3: DtypeWarning: Columns (2) have mixed types. Specify dtype option on import or set low_memory=False.\n",
      "  track_features=pd.read_csv('track_features.csv')\n"
     ]
    }
   ],
   "source": [
    "df=pd.read_csv('1m.csv')\n",
    "audio_features=pd.read_csv('audio_features.csv')\n",
    "track_features=pd.read_csv('track_features.csv')\n",
    "artist_features=pd.read_csv('artist_features.csv')"
   ]
  },
  {
   "cell_type": "code",
   "execution_count": 118,
   "metadata": {},
   "outputs": [],
   "source": [
    "audio_features.drop(columns=['type','id','track_href','analysis_url','duration_ms'],inplace=True)"
   ]
  },
  {
   "cell_type": "code",
   "execution_count": 119,
   "metadata": {},
   "outputs": [],
   "source": [
    "track_features.rename(columns={\"popularity\": \"track_popularity\"}, inplace=True)"
   ]
  },
  {
   "cell_type": "code",
   "execution_count": 120,
   "metadata": {},
   "outputs": [],
   "source": [
    "artist_features.rename(columns={\"popularity\": \"artist_popularity\"}, inplace=True)"
   ]
  },
  {
   "cell_type": "code",
   "execution_count": 121,
   "metadata": {},
   "outputs": [],
   "source": [
    "track_features['id'] = 'spotify:track:' + track_features['id']\n",
    "artist_features['Artist_uri'] = 'spotify:artist:' + artist_features['Artist_uri']"
   ]
  },
  {
   "cell_type": "markdown",
   "metadata": {},
   "source": [
    "# Merging all dataframes"
   ]
  },
  {
   "cell_type": "code",
   "execution_count": 122,
   "metadata": {},
   "outputs": [],
   "source": [
    "df = pd.merge(df,audio_features, left_on = \"track_uri\", right_on= \"uri\",how = 'inner')"
   ]
  },
  {
   "cell_type": "code",
   "execution_count": 123,
   "metadata": {},
   "outputs": [
    {
     "name": "stdout",
     "output_type": "stream",
     "text": [
      "2249255\n"
     ]
    }
   ],
   "source": [
    "print(len(df))"
   ]
  },
  {
   "cell_type": "code",
   "execution_count": 124,
   "metadata": {},
   "outputs": [],
   "source": [
    "df = pd.merge(df,track_features, left_on = \"track_uri\", right_on= \"id\",how = 'inner')"
   ]
  },
  {
   "cell_type": "code",
   "execution_count": 125,
   "metadata": {},
   "outputs": [
    {
     "name": "stdout",
     "output_type": "stream",
     "text": [
      "1541771\n"
     ]
    }
   ],
   "source": [
    "print(len(df))"
   ]
  },
  {
   "cell_type": "code",
   "execution_count": 126,
   "metadata": {},
   "outputs": [],
   "source": [
    "df = pd.merge(df,artist_features, left_on = \"artist_uri\", right_on= \"Artist_uri\",how = 'inner')"
   ]
  },
  {
   "cell_type": "code",
   "execution_count": 127,
   "metadata": {},
   "outputs": [
    {
     "name": "stdout",
     "output_type": "stream",
     "text": [
      "1533971\n"
     ]
    }
   ],
   "source": [
    "print(len(df))"
   ]
  },
  {
   "cell_type": "markdown",
   "metadata": {},
   "source": [
    "# Droping Unwanted Columns Save Space"
   ]
  },
  {
   "cell_type": "markdown",
   "metadata": {},
   "source": [
    "There were still 101 from audio_features and 576 from track_features extraction that were missing from the soptify api, so I had to drop them."
   ]
  },
  {
   "cell_type": "code",
   "execution_count": 128,
   "metadata": {},
   "outputs": [],
   "source": [
    "df.dropna(axis=0,inplace=True)"
   ]
  },
  {
   "cell_type": "code",
   "execution_count": 129,
   "metadata": {},
   "outputs": [
    {
     "data": {
      "text/plain": [
       "0"
      ]
     },
     "execution_count": 129,
     "metadata": {},
     "output_type": "execute_result"
    }
   ],
   "source": [
    "df.isna().sum().sum()"
   ]
  },
  {
   "cell_type": "code",
   "execution_count": 130,
   "metadata": {},
   "outputs": [],
   "source": [
    "df.drop(columns=['Unnamed: 0','pos','Artist_uri','id','uri'], inplace=True)#,],axis=1,inplace=True)"
   ]
  },
  {
   "cell_type": "code",
   "execution_count": 131,
   "metadata": {},
   "outputs": [
    {
     "data": {
      "text/plain": [
       "Index(['artist_name', 'track_uri', 'artist_uri', 'track_name', 'album_uri',\n",
       "       'duration_ms', 'album_name', 'danceability', 'energy', 'key',\n",
       "       'loudness', 'mode', 'speechiness', 'acoustic', 'instrumentalness',\n",
       "       'liveness', 'valence', 'tempo', 'time_signature', 'release_date',\n",
       "       'track_popularity', 'artist_popularity', 'genres'],\n",
       "      dtype='object')"
      ]
     },
     "execution_count": 131,
     "metadata": {},
     "output_type": "execute_result"
    }
   ],
   "source": [
    "df.columns"
   ]
  },
  {
   "cell_type": "code",
   "execution_count": 132,
   "metadata": {},
   "outputs": [
    {
     "data": {
      "text/html": [
       "<div>\n",
       "<style scoped>\n",
       "    .dataframe tbody tr th:only-of-type {\n",
       "        vertical-align: middle;\n",
       "    }\n",
       "\n",
       "    .dataframe tbody tr th {\n",
       "        vertical-align: top;\n",
       "    }\n",
       "\n",
       "    .dataframe thead th {\n",
       "        text-align: right;\n",
       "    }\n",
       "</style>\n",
       "<table border=\"1\" class=\"dataframe\">\n",
       "  <thead>\n",
       "    <tr style=\"text-align: right;\">\n",
       "      <th></th>\n",
       "      <th>artist_name</th>\n",
       "      <th>track_uri</th>\n",
       "      <th>artist_uri</th>\n",
       "      <th>track_name</th>\n",
       "      <th>album_uri</th>\n",
       "      <th>duration_ms</th>\n",
       "      <th>album_name</th>\n",
       "      <th>danceability</th>\n",
       "      <th>energy</th>\n",
       "      <th>key</th>\n",
       "      <th>...</th>\n",
       "      <th>acoustic</th>\n",
       "      <th>instrumentalness</th>\n",
       "      <th>liveness</th>\n",
       "      <th>valence</th>\n",
       "      <th>tempo</th>\n",
       "      <th>time_signature</th>\n",
       "      <th>release_date</th>\n",
       "      <th>track_popularity</th>\n",
       "      <th>artist_popularity</th>\n",
       "      <th>genres</th>\n",
       "    </tr>\n",
       "  </thead>\n",
       "  <tbody>\n",
       "    <tr>\n",
       "      <th>0</th>\n",
       "      <td>Missy Elliott</td>\n",
       "      <td>spotify:track:0UaMYEvWZi0ZqiDOoHU3YI</td>\n",
       "      <td>spotify:artist:2wIVse2owClT7go1WT98tk</td>\n",
       "      <td>Lose Control (feat. Ciara &amp; Fat Man Scoop)</td>\n",
       "      <td>spotify:album:6vV5UrXcfyQD1wu4Qo2I9K</td>\n",
       "      <td>226863</td>\n",
       "      <td>The Cookbook</td>\n",
       "      <td>0.904</td>\n",
       "      <td>0.813</td>\n",
       "      <td>4.0</td>\n",
       "      <td>...</td>\n",
       "      <td>0.0311</td>\n",
       "      <td>0.00697</td>\n",
       "      <td>0.0471</td>\n",
       "      <td>0.81</td>\n",
       "      <td>125.461</td>\n",
       "      <td>4.0</td>\n",
       "      <td>2005-07-04</td>\n",
       "      <td>70</td>\n",
       "      <td>70</td>\n",
       "      <td>dance_pop hip_hop hip_pop neo_soul pop_rap r&amp;b...</td>\n",
       "    </tr>\n",
       "  </tbody>\n",
       "</table>\n",
       "<p>1 rows × 23 columns</p>\n",
       "</div>"
      ],
      "text/plain": [
       "     artist_name                             track_uri  \\\n",
       "0  Missy Elliott  spotify:track:0UaMYEvWZi0ZqiDOoHU3YI   \n",
       "\n",
       "                              artist_uri  \\\n",
       "0  spotify:artist:2wIVse2owClT7go1WT98tk   \n",
       "\n",
       "                                   track_name  \\\n",
       "0  Lose Control (feat. Ciara & Fat Man Scoop)   \n",
       "\n",
       "                              album_uri  duration_ms    album_name  \\\n",
       "0  spotify:album:6vV5UrXcfyQD1wu4Qo2I9K       226863  The Cookbook   \n",
       "\n",
       "  danceability  energy  key  ...  acoustic  instrumentalness  liveness  \\\n",
       "0        0.904   0.813  4.0  ...    0.0311           0.00697    0.0471   \n",
       "\n",
       "   valence    tempo  time_signature  release_date  track_popularity  \\\n",
       "0     0.81  125.461             4.0    2005-07-04                70   \n",
       "\n",
       "   artist_popularity                                             genres  \n",
       "0                 70  dance_pop hip_hop hip_pop neo_soul pop_rap r&b...  \n",
       "\n",
       "[1 rows x 23 columns]"
      ]
     },
     "execution_count": 132,
     "metadata": {},
     "output_type": "execute_result"
    }
   ],
   "source": [
    "df.head(1)"
   ]
  },
  {
   "cell_type": "markdown",
   "metadata": {},
   "source": [
    "## Data Preprocessing"
   ]
  },
  {
   "cell_type": "markdown",
   "metadata": {},
   "source": [
    "Create five point buckets for track and artist popularity .\n",
    "\n",
    "and 50 point buckets for the track release date."
   ]
  },
  {
   "cell_type": "code",
   "execution_count": 133,
   "metadata": {},
   "outputs": [],
   "source": [
    "df['track_popularity'] = df['track_popularity'].astype(int)"
   ]
  },
  {
   "cell_type": "code",
   "execution_count": 134,
   "metadata": {},
   "outputs": [],
   "source": [
    "df['track_popularity'] = df['track_popularity'].apply(lambda x: int(x/5))\n",
    "df['artist_popularity'] = df['artist_popularity'].apply(lambda x: int(x/5))"
   ]
  },
  {
   "cell_type": "code",
   "execution_count": 135,
   "metadata": {},
   "outputs": [],
   "source": [
    "df['release_date'] = df['release_date'].apply(lambda x: x.split('-')[0])\n",
    "df['release_date']=df['release_date'].astype('int16')\n",
    "df['release_date'] = df['release_date'].apply(lambda x: int(x/50))"
   ]
  },
  {
   "cell_type": "code",
   "execution_count": 136,
   "metadata": {},
   "outputs": [
    {
     "data": {
      "text/html": [
       "<div>\n",
       "<style scoped>\n",
       "    .dataframe tbody tr th:only-of-type {\n",
       "        vertical-align: middle;\n",
       "    }\n",
       "\n",
       "    .dataframe tbody tr th {\n",
       "        vertical-align: top;\n",
       "    }\n",
       "\n",
       "    .dataframe thead th {\n",
       "        text-align: right;\n",
       "    }\n",
       "</style>\n",
       "<table border=\"1\" class=\"dataframe\">\n",
       "  <thead>\n",
       "    <tr style=\"text-align: right;\">\n",
       "      <th></th>\n",
       "      <th>artist_name</th>\n",
       "      <th>track_uri</th>\n",
       "      <th>artist_uri</th>\n",
       "      <th>track_name</th>\n",
       "      <th>album_uri</th>\n",
       "      <th>duration_ms</th>\n",
       "      <th>album_name</th>\n",
       "      <th>danceability</th>\n",
       "      <th>energy</th>\n",
       "      <th>key</th>\n",
       "      <th>...</th>\n",
       "      <th>acoustic</th>\n",
       "      <th>instrumentalness</th>\n",
       "      <th>liveness</th>\n",
       "      <th>valence</th>\n",
       "      <th>tempo</th>\n",
       "      <th>time_signature</th>\n",
       "      <th>release_date</th>\n",
       "      <th>track_popularity</th>\n",
       "      <th>artist_popularity</th>\n",
       "      <th>genres</th>\n",
       "    </tr>\n",
       "  </thead>\n",
       "  <tbody>\n",
       "    <tr>\n",
       "      <th>0</th>\n",
       "      <td>Missy Elliott</td>\n",
       "      <td>spotify:track:0UaMYEvWZi0ZqiDOoHU3YI</td>\n",
       "      <td>spotify:artist:2wIVse2owClT7go1WT98tk</td>\n",
       "      <td>Lose Control (feat. Ciara &amp; Fat Man Scoop)</td>\n",
       "      <td>spotify:album:6vV5UrXcfyQD1wu4Qo2I9K</td>\n",
       "      <td>226863</td>\n",
       "      <td>The Cookbook</td>\n",
       "      <td>0.904</td>\n",
       "      <td>0.813</td>\n",
       "      <td>4.0</td>\n",
       "      <td>...</td>\n",
       "      <td>0.0311</td>\n",
       "      <td>0.00697</td>\n",
       "      <td>0.0471</td>\n",
       "      <td>0.81</td>\n",
       "      <td>125.461</td>\n",
       "      <td>4.0</td>\n",
       "      <td>40</td>\n",
       "      <td>14</td>\n",
       "      <td>14</td>\n",
       "      <td>dance_pop hip_hop hip_pop neo_soul pop_rap r&amp;b...</td>\n",
       "    </tr>\n",
       "  </tbody>\n",
       "</table>\n",
       "<p>1 rows × 23 columns</p>\n",
       "</div>"
      ],
      "text/plain": [
       "     artist_name                             track_uri  \\\n",
       "0  Missy Elliott  spotify:track:0UaMYEvWZi0ZqiDOoHU3YI   \n",
       "\n",
       "                              artist_uri  \\\n",
       "0  spotify:artist:2wIVse2owClT7go1WT98tk   \n",
       "\n",
       "                                   track_name  \\\n",
       "0  Lose Control (feat. Ciara & Fat Man Scoop)   \n",
       "\n",
       "                              album_uri  duration_ms    album_name  \\\n",
       "0  spotify:album:6vV5UrXcfyQD1wu4Qo2I9K       226863  The Cookbook   \n",
       "\n",
       "  danceability  energy  key  ...  acoustic  instrumentalness  liveness  \\\n",
       "0        0.904   0.813  4.0  ...    0.0311           0.00697    0.0471   \n",
       "\n",
       "   valence    tempo  time_signature  release_date  track_popularity  \\\n",
       "0     0.81  125.461             4.0            40                14   \n",
       "\n",
       "   artist_popularity                                             genres  \n",
       "0                 14  dance_pop hip_hop hip_pop neo_soul pop_rap r&b...  \n",
       "\n",
       "[1 rows x 23 columns]"
      ]
     },
     "execution_count": 136,
     "metadata": {},
     "output_type": "execute_result"
    }
   ],
   "source": [
    "df.head(1)"
   ]
  },
  {
   "cell_type": "code",
   "execution_count": 137,
   "metadata": {},
   "outputs": [],
   "source": [
    "df.to_csv('1M_unique_processed_data.csv',index=False)"
   ]
  }
 ],
 "metadata": {
  "kernelspec": {
   "display_name": "Python 3.9.13 ('base')",
   "language": "python",
   "name": "python3"
  },
  "language_info": {
   "codemirror_mode": {
    "name": "ipython",
    "version": 3
   },
   "file_extension": ".py",
   "mimetype": "text/x-python",
   "name": "python",
   "nbconvert_exporter": "python",
   "pygments_lexer": "ipython3",
   "version": "3.11.4"
  },
  "orig_nbformat": 4,
  "vscode": {
   "interpreter": {
    "hash": "e246d2215c418239c9316a1ebf2d8abb44dc50b2e5b0e29defd87143398aa387"
   }
  }
 },
 "nbformat": 4,
 "nbformat_minor": 2
}
